{
 "cells": [
  {
   "cell_type": "code",
   "execution_count": null,
   "metadata": {},
   "outputs": [
    {
     "name": "stdout",
     "output_type": "stream",
     "text": [
      "Training epoch 1...\n",
      "Training epoch 2...\n",
      "Training epoch 3...\n",
      "Training epoch 4...\n",
      "Training epoch 5...\n",
      "Training epoch 6...\n",
      "Training epoch 7...\n",
      "Training epoch 8...\n",
      "Training epoch 9...\n",
      "Training epoch 10...\n",
      "Email sent successfully!\n"
     ]
    }
   ],
   "source": [
    "import smtplib\n",
    "from email.mime.text import MIMEText\n",
    "from email.mime.multipart import MIMEMultipart\n",
    "import time\n",
    "from textwrap import dedent\n",
    "\n",
    "\n",
    "def send_email_notification(subject, body, to_email):\n",
    "    # Gmail configuration example\n",
    "    smtp_server = \"smtp.gmail.com\"\n",
    "    smtp_port = 587\n",
    "    from_email = \"xujialiuphd@gmail.com\"\n",
    "    password = \"kkkk kkkk kkkk kkkk\"  # Use app-specific password\n",
    "\n",
    "    msg = MIMEMultipart()\n",
    "    msg[\"From\"] = from_email\n",
    "    msg[\"To\"] = to_email\n",
    "    msg[\"Subject\"] = subject\n",
    "    msg.attach(MIMEText(body, \"plain\"))\n",
    "\n",
    "    try:\n",
    "        server = smtplib.SMTP(smtp_server, smtp_port)\n",
    "        server.starttls()\n",
    "        server.login(from_email, password)\n",
    "        server.send_message(msg)\n",
    "        server.quit()\n",
    "        print(\"Email sent successfully!\")\n",
    "    except Exception as e:\n",
    "        print(f\"Failed to send email: {e}\")\n",
    "\n",
    "\n",
    "# Use in training code\n",
    "def train_model():\n",
    "    start_time = time.time()\n",
    "\n",
    "    # Training code\n",
    "    for i in range(10):\n",
    "        print(f\"Training epoch {i + 1}...\")\n",
    "\n",
    "    # Send email after training completes\n",
    "    training_time = time.time() - start_time\n",
    "    subject = \"Model Training Complete\"\n",
    "    body = dedent(f\"\"\"\n",
    "        Training has been completed!\n",
    "        Total training time: {training_time / 3600:.2f} hours\n",
    "    \"\"\")\n",
    "    send_email_notification(subject, body, \"xujialiu@link.cuhk.edu.hk\")\n",
    "\n",
    "\n",
    "if __name__ == \"__main__\":\n",
    "    train_model()"
   ]
  }
 ],
 "metadata": {
  "kernelspec": {
   "display_name": "test",
   "language": "python",
   "name": "python3"
  },
  "language_info": {
   "codemirror_mode": {
    "name": "ipython",
    "version": 3
   },
   "file_extension": ".py",
   "mimetype": "text/x-python",
   "name": "python",
   "nbconvert_exporter": "python",
   "pygments_lexer": "ipython3",
   "version": "3.11.13"
  }
 },
 "nbformat": 4,
 "nbformat_minor": 2
}
