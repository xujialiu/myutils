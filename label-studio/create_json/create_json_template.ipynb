{
 "cells": [
  {
   "cell_type": "code",
   "execution_count": 2,
   "metadata": {},
   "outputs": [],
   "source": [
    "import pandas as pd\n",
    "from pathlib import Path\n",
    "import json\n",
    "from datetime import datetime\n",
    "\n",
    "\n",
    "def df_to_json(df, output_file):\n",
    "    json_data = []\n",
    "    for _, row in df.iterrows():\n",
    "        entry = {\n",
    "            \"data\": {\n",
    "                \"image\": row[\"image\"],\n",
    "                \"enhanced_image\": row[\"enhanced_image\"],\n",
    "                \"name\": row[\"name\"],\n",
    "            },\n",
    "            \"annotations\": [],\n",
    "            \"predictions\": [\n",
    "                {\n",
    "                    \"result\": [  # 添加 result 数组\n",
    "                        {\n",
    "                            \"value\": {\"choices\": [\"enhanced image\"]},\n",
    "                            \"from_name\": \"image_type\",\n",
    "                            \"to_name\": \"image\",\n",
    "                            \"type\": \"choices\",\n",
    "                        },\n",
    "                        {\n",
    "                            \"value\": {\"choices\": [row[\"label\"]]},\n",
    "                            \"from_name\": \"choice_type\",\n",
    "                            \"to_name\": \"image\",\n",
    "                            \"type\": \"choices\",\n",
    "                        },\n",
    "                    ]\n",
    "                }\n",
    "            ],\n",
    "        }\n",
    "\n",
    "        json_data.append(entry)\n",
    "\n",
    "    with open(output_file, \"w\", encoding=\"utf-8\") as f:\n",
    "        json.dump(json_data, f, indent=4)"
   ]
  },
  {
   "cell_type": "code",
   "execution_count": 4,
   "metadata": {},
   "outputs": [],
   "source": [
    "current_date = datetime.now().strftime(r\"%y%m%d\")\n",
    "df = pd.read_csv(\n",
    "    \"table.csv\",\n",
    "    index_col=0,\n",
    ")\n",
    "df[\"image\"] = \"/data/local-files/?d=UWF_IQA/UWF_IQA/\" + df.label + \"/\" + df.name\n",
    "df[\"enhanced_image\"] = (\n",
    "    \"/data/local-files/?d=UWF_IQA/UWF_IQA_enhanced/\" + df.label + \"/\" + df.name\n",
    ")\n",
    "df_to_json(df, f\"template_{current_date}.json\")"
   ]
  }
 ],
 "metadata": {
  "kernelspec": {
   "display_name": "src",
   "language": "python",
   "name": "python3"
  },
  "language_info": {
   "codemirror_mode": {
    "name": "ipython",
    "version": 3
   },
   "file_extension": ".py",
   "mimetype": "text/x-python",
   "name": "python",
   "nbconvert_exporter": "python",
   "pygments_lexer": "ipython3",
   "version": "3.8.20"
  }
 },
 "nbformat": 4,
 "nbformat_minor": 2
}
