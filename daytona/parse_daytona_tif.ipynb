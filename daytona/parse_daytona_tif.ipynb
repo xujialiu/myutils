{
 "cells": [
  {
   "cell_type": "code",
   "execution_count": null,
   "metadata": {},
   "outputs": [],
   "source": [
    "from PIL import Image\n",
    "import numpy as np\n",
    "from skimage import io\n",
    "\n",
    "img = Image.open((\"/mnt/4T/xujialiu/Chores/STDR003-20180206@160531-L2-P.tif\"))\n",
    "\n",
    "list_img_ch = []\n",
    "\n",
    "for i in range(1, 3):\n",
    "    img.seek(i)\n",
    "    list_img_ch.append(np.array(img))\n",
    "\n",
    "list_img_ch.append(np.zeros_like(list_img_ch[0]))\n",
    "\n",
    "# G, R, B\n",
    "G, R, B = list_img_ch\n",
    "img_rgb = np.stack([R.astype(np.uint8), G.astype(np.uint8), B], axis=-1)\n",
    "io.imshow(img_rgb)"
   ]
  }
 ],
 "metadata": {
  "language_info": {
   "name": "python"
  }
 },
 "nbformat": 4,
 "nbformat_minor": 2
}
